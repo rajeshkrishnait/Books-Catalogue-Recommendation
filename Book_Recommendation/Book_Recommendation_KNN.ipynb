{
 "cells": [
  {
   "cell_type": "code",
   "execution_count": 46,
   "metadata": {},
   "outputs": [],
   "source": [
    "import pandas as pd\n",
    "import matplotlib.pyplot as plt\n",
    "import numpy as np"
   ]
  },
  {
   "cell_type": "code",
   "execution_count": 47,
   "metadata": {},
   "outputs": [
    {
     "name": "stderr",
     "output_type": "stream",
     "text": [
      "C:\\ProgramData\\Anaconda3\\lib\\site-packages\\IPython\\core\\interactiveshell.py:3063: DtypeWarning: Columns (4) have mixed types.Specify dtype option on import or set low_memory=False.\n",
      "  interactivity=interactivity, compiler=compiler, result=result)\n"
     ]
    },
    {
     "data": {
      "text/html": [
       "<div>\n",
       "<style scoped>\n",
       "    .dataframe tbody tr th:only-of-type {\n",
       "        vertical-align: middle;\n",
       "    }\n",
       "\n",
       "    .dataframe tbody tr th {\n",
       "        vertical-align: top;\n",
       "    }\n",
       "\n",
       "    .dataframe thead th {\n",
       "        text-align: right;\n",
       "    }\n",
       "</style>\n",
       "<table border=\"1\" class=\"dataframe\">\n",
       "  <thead>\n",
       "    <tr style=\"text-align: right;\">\n",
       "      <th></th>\n",
       "      <th>Unnamed: 0</th>\n",
       "      <th>ISBN</th>\n",
       "      <th>bookTitle</th>\n",
       "      <th>bookAuthor</th>\n",
       "      <th>yearOfPublication</th>\n",
       "      <th>publisher</th>\n",
       "      <th>imageUrlS</th>\n",
       "      <th>imageUrlM</th>\n",
       "      <th>imageUrlL</th>\n",
       "    </tr>\n",
       "  </thead>\n",
       "  <tbody>\n",
       "    <tr>\n",
       "      <th>0</th>\n",
       "      <td>0</td>\n",
       "      <td>195153448</td>\n",
       "      <td>Classical Mythology</td>\n",
       "      <td>Mark P. O. Morford</td>\n",
       "      <td>2002</td>\n",
       "      <td>Oxford University Press</td>\n",
       "      <td>http://images.amazon.com/images/P/0195153448.0...</td>\n",
       "      <td>http://images.amazon.com/images/P/0195153448.0...</td>\n",
       "      <td>http://images.amazon.com/images/P/0195153448.0...</td>\n",
       "    </tr>\n",
       "    <tr>\n",
       "      <th>1</th>\n",
       "      <td>1</td>\n",
       "      <td>2005018</td>\n",
       "      <td>Clara Callan</td>\n",
       "      <td>Richard Bruce Wright</td>\n",
       "      <td>2001</td>\n",
       "      <td>HarperFlamingo Canada</td>\n",
       "      <td>http://images.amazon.com/images/P/0002005018.0...</td>\n",
       "      <td>http://images.amazon.com/images/P/0002005018.0...</td>\n",
       "      <td>http://images.amazon.com/images/P/0002005018.0...</td>\n",
       "    </tr>\n",
       "    <tr>\n",
       "      <th>2</th>\n",
       "      <td>2</td>\n",
       "      <td>60973129</td>\n",
       "      <td>Decision in Normandy</td>\n",
       "      <td>Carlo D'Este</td>\n",
       "      <td>1991</td>\n",
       "      <td>HarperPerennial</td>\n",
       "      <td>http://images.amazon.com/images/P/0060973129.0...</td>\n",
       "      <td>http://images.amazon.com/images/P/0060973129.0...</td>\n",
       "      <td>http://images.amazon.com/images/P/0060973129.0...</td>\n",
       "    </tr>\n",
       "    <tr>\n",
       "      <th>3</th>\n",
       "      <td>3</td>\n",
       "      <td>374157065</td>\n",
       "      <td>Flu: The Story of the Great Influenza Pandemic...</td>\n",
       "      <td>Gina Bari Kolata</td>\n",
       "      <td>1999</td>\n",
       "      <td>Farrar Straus Giroux</td>\n",
       "      <td>http://images.amazon.com/images/P/0374157065.0...</td>\n",
       "      <td>http://images.amazon.com/images/P/0374157065.0...</td>\n",
       "      <td>http://images.amazon.com/images/P/0374157065.0...</td>\n",
       "    </tr>\n",
       "    <tr>\n",
       "      <th>4</th>\n",
       "      <td>4</td>\n",
       "      <td>393045218</td>\n",
       "      <td>The Mummies of Urumchi</td>\n",
       "      <td>E. J. W. Barber</td>\n",
       "      <td>1999</td>\n",
       "      <td>W. W. Norton &amp;amp; Company</td>\n",
       "      <td>http://images.amazon.com/images/P/0393045218.0...</td>\n",
       "      <td>http://images.amazon.com/images/P/0393045218.0...</td>\n",
       "      <td>http://images.amazon.com/images/P/0393045218.0...</td>\n",
       "    </tr>\n",
       "  </tbody>\n",
       "</table>\n",
       "</div>"
      ],
      "text/plain": [
       "   Unnamed: 0       ISBN                                          bookTitle  \\\n",
       "0           0  195153448                                Classical Mythology   \n",
       "1           1    2005018                                       Clara Callan   \n",
       "2           2   60973129                               Decision in Normandy   \n",
       "3           3  374157065  Flu: The Story of the Great Influenza Pandemic...   \n",
       "4           4  393045218                             The Mummies of Urumchi   \n",
       "\n",
       "             bookAuthor yearOfPublication                   publisher  \\\n",
       "0    Mark P. O. Morford              2002     Oxford University Press   \n",
       "1  Richard Bruce Wright              2001       HarperFlamingo Canada   \n",
       "2          Carlo D'Este              1991             HarperPerennial   \n",
       "3      Gina Bari Kolata              1999        Farrar Straus Giroux   \n",
       "4       E. J. W. Barber              1999  W. W. Norton &amp; Company   \n",
       "\n",
       "                                           imageUrlS  \\\n",
       "0  http://images.amazon.com/images/P/0195153448.0...   \n",
       "1  http://images.amazon.com/images/P/0002005018.0...   \n",
       "2  http://images.amazon.com/images/P/0060973129.0...   \n",
       "3  http://images.amazon.com/images/P/0374157065.0...   \n",
       "4  http://images.amazon.com/images/P/0393045218.0...   \n",
       "\n",
       "                                           imageUrlM  \\\n",
       "0  http://images.amazon.com/images/P/0195153448.0...   \n",
       "1  http://images.amazon.com/images/P/0002005018.0...   \n",
       "2  http://images.amazon.com/images/P/0060973129.0...   \n",
       "3  http://images.amazon.com/images/P/0374157065.0...   \n",
       "4  http://images.amazon.com/images/P/0393045218.0...   \n",
       "\n",
       "                                           imageUrlL  \n",
       "0  http://images.amazon.com/images/P/0195153448.0...  \n",
       "1  http://images.amazon.com/images/P/0002005018.0...  \n",
       "2  http://images.amazon.com/images/P/0060973129.0...  \n",
       "3  http://images.amazon.com/images/P/0374157065.0...  \n",
       "4  http://images.amazon.com/images/P/0393045218.0...  "
      ]
     },
     "execution_count": 47,
     "metadata": {},
     "output_type": "execute_result"
    }
   ],
   "source": [
    "# books = pd.read_csv('BX-Books.csv', sep=';', error_bad_lines=False, encoding=\"latin-1\")\n",
    "books = pd.read_csv('BX-Books.csv')\n",
    "# books.columns = ['ISBN', 'bookTitle', 'bookAuthor', 'yearOfPublication', 'publisher', 'imageUrlS', 'imageUrlM', 'imageUrlL']\n",
    "# books.to_csv('BX-Books.csv')\n",
    "books.head()"
   ]
  },
  {
   "cell_type": "code",
   "execution_count": 48,
   "metadata": {},
   "outputs": [
    {
     "data": {
      "text/html": [
       "<div>\n",
       "<style scoped>\n",
       "    .dataframe tbody tr th:only-of-type {\n",
       "        vertical-align: middle;\n",
       "    }\n",
       "\n",
       "    .dataframe tbody tr th {\n",
       "        vertical-align: top;\n",
       "    }\n",
       "\n",
       "    .dataframe thead th {\n",
       "        text-align: right;\n",
       "    }\n",
       "</style>\n",
       "<table border=\"1\" class=\"dataframe\">\n",
       "  <thead>\n",
       "    <tr style=\"text-align: right;\">\n",
       "      <th></th>\n",
       "      <th>Unnamed: 0</th>\n",
       "      <th>userID</th>\n",
       "      <th>Location</th>\n",
       "      <th>Age</th>\n",
       "    </tr>\n",
       "  </thead>\n",
       "  <tbody>\n",
       "    <tr>\n",
       "      <th>0</th>\n",
       "      <td>0</td>\n",
       "      <td>1</td>\n",
       "      <td>nyc, new york, usa</td>\n",
       "      <td>NaN</td>\n",
       "    </tr>\n",
       "    <tr>\n",
       "      <th>1</th>\n",
       "      <td>1</td>\n",
       "      <td>2</td>\n",
       "      <td>stockton, california, usa</td>\n",
       "      <td>18.0</td>\n",
       "    </tr>\n",
       "    <tr>\n",
       "      <th>2</th>\n",
       "      <td>2</td>\n",
       "      <td>3</td>\n",
       "      <td>moscow, yukon territory, russia</td>\n",
       "      <td>NaN</td>\n",
       "    </tr>\n",
       "    <tr>\n",
       "      <th>3</th>\n",
       "      <td>3</td>\n",
       "      <td>4</td>\n",
       "      <td>porto, v.n.gaia, portugal</td>\n",
       "      <td>17.0</td>\n",
       "    </tr>\n",
       "    <tr>\n",
       "      <th>4</th>\n",
       "      <td>4</td>\n",
       "      <td>5</td>\n",
       "      <td>farnborough, hants, united kingdom</td>\n",
       "      <td>NaN</td>\n",
       "    </tr>\n",
       "  </tbody>\n",
       "</table>\n",
       "</div>"
      ],
      "text/plain": [
       "   Unnamed: 0  userID                            Location   Age\n",
       "0           0       1                  nyc, new york, usa   NaN\n",
       "1           1       2           stockton, california, usa  18.0\n",
       "2           2       3     moscow, yukon territory, russia   NaN\n",
       "3           3       4           porto, v.n.gaia, portugal  17.0\n",
       "4           4       5  farnborough, hants, united kingdom   NaN"
      ]
     },
     "execution_count": 48,
     "metadata": {},
     "output_type": "execute_result"
    }
   ],
   "source": [
    "# users = pd.read_csv('BX-Users.csv', sep=';', error_bad_lines=False, encoding=\"latin-1\")\n",
    "users = pd.read_csv('BX-Users.csv')\n",
    "# users.columns = ['userID', 'Location', 'Age']\n",
    "# users.to_csv(\"BX-Users.csv\")\n",
    "users.head()"
   ]
  },
  {
   "cell_type": "code",
   "execution_count": 49,
   "metadata": {},
   "outputs": [
    {
     "data": {
      "text/html": [
       "<div>\n",
       "<style scoped>\n",
       "    .dataframe tbody tr th:only-of-type {\n",
       "        vertical-align: middle;\n",
       "    }\n",
       "\n",
       "    .dataframe tbody tr th {\n",
       "        vertical-align: top;\n",
       "    }\n",
       "\n",
       "    .dataframe thead th {\n",
       "        text-align: right;\n",
       "    }\n",
       "</style>\n",
       "<table border=\"1\" class=\"dataframe\">\n",
       "  <thead>\n",
       "    <tr style=\"text-align: right;\">\n",
       "      <th></th>\n",
       "      <th>Unnamed: 0</th>\n",
       "      <th>userID</th>\n",
       "      <th>ISBN</th>\n",
       "      <th>bookRating</th>\n",
       "    </tr>\n",
       "  </thead>\n",
       "  <tbody>\n",
       "    <tr>\n",
       "      <th>0</th>\n",
       "      <td>0</td>\n",
       "      <td>276725</td>\n",
       "      <td>034545104X</td>\n",
       "      <td>0</td>\n",
       "    </tr>\n",
       "    <tr>\n",
       "      <th>1</th>\n",
       "      <td>1</td>\n",
       "      <td>276726</td>\n",
       "      <td>0155061224</td>\n",
       "      <td>5</td>\n",
       "    </tr>\n",
       "    <tr>\n",
       "      <th>2</th>\n",
       "      <td>2</td>\n",
       "      <td>276727</td>\n",
       "      <td>0446520802</td>\n",
       "      <td>0</td>\n",
       "    </tr>\n",
       "    <tr>\n",
       "      <th>3</th>\n",
       "      <td>3</td>\n",
       "      <td>276729</td>\n",
       "      <td>052165615X</td>\n",
       "      <td>3</td>\n",
       "    </tr>\n",
       "    <tr>\n",
       "      <th>4</th>\n",
       "      <td>4</td>\n",
       "      <td>276729</td>\n",
       "      <td>0521795028</td>\n",
       "      <td>6</td>\n",
       "    </tr>\n",
       "  </tbody>\n",
       "</table>\n",
       "</div>"
      ],
      "text/plain": [
       "   Unnamed: 0  userID        ISBN  bookRating\n",
       "0           0  276725  034545104X           0\n",
       "1           1  276726  0155061224           5\n",
       "2           2  276727  0446520802           0\n",
       "3           3  276729  052165615X           3\n",
       "4           4  276729  0521795028           6"
      ]
     },
     "execution_count": 49,
     "metadata": {},
     "output_type": "execute_result"
    }
   ],
   "source": [
    "# ratings = pd.read_csv('BX-Book-Ratings.csv', sep=';', error_bad_lines=False, encoding=\"latin-1\")\n",
    "ratings = pd.read_csv('BX-Book-Ratings.csv')\n",
    "# ratings.columns = ['userID', 'ISBN', 'bookRating']\n",
    "# ratings.to_csv(\"BX-Book-Ratings.csv\")\n",
    "ratings.head()"
   ]
  },
  {
   "cell_type": "code",
   "execution_count": 50,
   "metadata": {
    "scrolled": true
   },
   "outputs": [
    {
     "data": {
      "text/plain": [
       "<bound method Series.unique of 0           034545104X\n",
       "1           0155061224\n",
       "2           0446520802\n",
       "3           052165615X\n",
       "4           0521795028\n",
       "              ...     \n",
       "1149775     1563526298\n",
       "1149776     0679447156\n",
       "1149777     0515107662\n",
       "1149778     0590442449\n",
       "1149779    05162443314\n",
       "Name: ISBN, Length: 1149780, dtype: object>"
      ]
     },
     "execution_count": 50,
     "metadata": {},
     "output_type": "execute_result"
    }
   ],
   "source": [
    "ratings.ISBN.unique"
   ]
  },
  {
   "cell_type": "code",
   "execution_count": 51,
   "metadata": {},
   "outputs": [
    {
     "name": "stdout",
     "output_type": "stream",
     "text": [
      "340556\n"
     ]
    }
   ],
   "source": [
    "print(len(pd.unique(ratings['ISBN'])))"
   ]
  },
  {
   "cell_type": "code",
   "execution_count": 52,
   "metadata": {},
   "outputs": [
    {
     "data": {
      "text/plain": [
       "(271360, 9)"
      ]
     },
     "execution_count": 52,
     "metadata": {},
     "output_type": "execute_result"
    }
   ],
   "source": [
    "books.shape"
   ]
  },
  {
   "cell_type": "code",
   "execution_count": 53,
   "metadata": {},
   "outputs": [
    {
     "data": {
      "image/png": "[encoded data removed]",
      "text/plain": [
       "<Figure size 432x288 with 1 Axes>"
      ]
     },
     "metadata": {
      "needs_background": "light"
     },
     "output_type": "display_data"
    }
   ],
   "source": [
    "plt.rc(\"font\", size=15)\n",
    "ratings.bookRating.value_counts(sort=False).plot(kind='bar')\n",
    "plt.title('Rating Distribution\\n')\n",
    "plt.xlabel('Rating')\n",
    "plt.ylabel('Count')\n",
    "plt.show()"
   ]
  },
  {
   "cell_type": "code",
   "execution_count": 54,
   "metadata": {},
   "outputs": [
    {
     "name": "stdout",
     "output_type": "stream",
     "text": [
      "books: (271360, 9) \n",
      "\n",
      "users: (278858, 4) \n",
      "\n",
      "ratings: (1149780, 4) \n",
      "\n"
     ]
    }
   ],
   "source": [
    "print('books:',books.shape,'\\n')\n",
    "print('users:',users.shape,'\\n')\n",
    "print('ratings:',ratings.shape,'\\n')"
   ]
  },
  {
   "cell_type": "code",
   "execution_count": 55,
   "metadata": {},
   "outputs": [
    {
     "data": {
      "image/png": "[encoded data removed]",
      "text/plain": [
       "<Figure size 432x288 with 1 Axes>"
      ]
     },
     "metadata": {
      "needs_background": "light"
     },
     "output_type": "display_data"
    }
   ],
   "source": [
    "users.Age.hist(bins=[0, 10, 20, 30, 40, 50, 100])\n",
    "plt.title('Age Distribution\\n')\n",
    "plt.xlabel('Age')\n",
    "plt.ylabel('Count')\n",
    "plt.show()"
   ]
  },
  {
   "cell_type": "code",
   "execution_count": 56,
   "metadata": {},
   "outputs": [],
   "source": [
    "counts1 = ratings['userID'].value_counts()\n",
    "ratings = ratings[ratings['userID'].isin(counts1[counts1 >= 10].index)]\n",
    "counts = ratings['bookRating'].value_counts()\n",
    "ratings = ratings[ratings['bookRating'].isin(counts[counts >= 20].index)]"
   ]
  },
  {
   "cell_type": "code",
   "execution_count": 57,
   "metadata": {},
   "outputs": [
    {
     "data": {
      "text/html": [
       "<div>\n",
       "<style scoped>\n",
       "    .dataframe tbody tr th:only-of-type {\n",
       "        vertical-align: middle;\n",
       "    }\n",
       "\n",
       "    .dataframe tbody tr th {\n",
       "        vertical-align: top;\n",
       "    }\n",
       "\n",
       "    .dataframe thead th {\n",
       "        text-align: right;\n",
       "    }\n",
       "</style>\n",
       "<table border=\"1\" class=\"dataframe\">\n",
       "  <thead>\n",
       "    <tr style=\"text-align: right;\">\n",
       "      <th></th>\n",
       "      <th>Unnamed: 0_x</th>\n",
       "      <th>userID</th>\n",
       "      <th>ISBN</th>\n",
       "      <th>bookRating</th>\n",
       "      <th>Unnamed: 0_y</th>\n",
       "      <th>bookTitle</th>\n",
       "    </tr>\n",
       "  </thead>\n",
       "  <tbody>\n",
       "    <tr>\n",
       "      <th>0</th>\n",
       "      <td>31</td>\n",
       "      <td>276762</td>\n",
       "      <td>034544003X</td>\n",
       "      <td>0</td>\n",
       "      <td>55440</td>\n",
       "      <td>Southampton Row (Charlotte &amp;amp; Thomas Pitt N...</td>\n",
       "    </tr>\n",
       "    <tr>\n",
       "      <th>1</th>\n",
       "      <td>126883</td>\n",
       "      <td>29259</td>\n",
       "      <td>034544003X</td>\n",
       "      <td>0</td>\n",
       "      <td>55440</td>\n",
       "      <td>Southampton Row (Charlotte &amp;amp; Thomas Pitt N...</td>\n",
       "    </tr>\n",
       "    <tr>\n",
       "      <th>2</th>\n",
       "      <td>152996</td>\n",
       "      <td>35050</td>\n",
       "      <td>034544003X</td>\n",
       "      <td>0</td>\n",
       "      <td>55440</td>\n",
       "      <td>Southampton Row (Charlotte &amp;amp; Thomas Pitt N...</td>\n",
       "    </tr>\n",
       "    <tr>\n",
       "      <th>3</th>\n",
       "      <td>407112</td>\n",
       "      <td>98391</td>\n",
       "      <td>034544003X</td>\n",
       "      <td>9</td>\n",
       "      <td>55440</td>\n",
       "      <td>Southampton Row (Charlotte &amp;amp; Thomas Pitt N...</td>\n",
       "    </tr>\n",
       "    <tr>\n",
       "      <th>4</th>\n",
       "      <td>558688</td>\n",
       "      <td>134797</td>\n",
       "      <td>034544003X</td>\n",
       "      <td>0</td>\n",
       "      <td>55440</td>\n",
       "      <td>Southampton Row (Charlotte &amp;amp; Thomas Pitt N...</td>\n",
       "    </tr>\n",
       "  </tbody>\n",
       "</table>\n",
       "</div>"
      ],
      "text/plain": [
       "   Unnamed: 0_x  userID        ISBN  bookRating  Unnamed: 0_y  \\\n",
       "0            31  276762  034544003X           0         55440   \n",
       "1        126883   29259  034544003X           0         55440   \n",
       "2        152996   35050  034544003X           0         55440   \n",
       "3        407112   98391  034544003X           9         55440   \n",
       "4        558688  134797  034544003X           0         55440   \n",
       "\n",
       "                                           bookTitle  \n",
       "0  Southampton Row (Charlotte &amp; Thomas Pitt N...  \n",
       "1  Southampton Row (Charlotte &amp; Thomas Pitt N...  \n",
       "2  Southampton Row (Charlotte &amp; Thomas Pitt N...  \n",
       "3  Southampton Row (Charlotte &amp; Thomas Pitt N...  \n",
       "4  Southampton Row (Charlotte &amp; Thomas Pitt N...  "
      ]
     },
     "execution_count": 57,
     "metadata": {},
     "output_type": "execute_result"
    }
   ],
   "source": [
    "combine_book_rating = pd.merge(ratings, books, on='ISBN')\n",
    "columns = ['yearOfPublication', 'publisher', 'bookAuthor', 'imageUrlS', 'imageUrlM', 'imageUrlL']\n",
    "combine_book_rating = combine_book_rating.drop(columns, axis=1)\n",
    "combine_book_rating.head()"
   ]
  },
  {
   "cell_type": "code",
   "execution_count": 58,
   "metadata": {},
   "outputs": [
    {
     "data": {
      "text/html": [
       "<div>\n",
       "<style scoped>\n",
       "    .dataframe tbody tr th:only-of-type {\n",
       "        vertical-align: middle;\n",
       "    }\n",
       "\n",
       "    .dataframe tbody tr th {\n",
       "        vertical-align: top;\n",
       "    }\n",
       "\n",
       "    .dataframe thead th {\n",
       "        text-align: right;\n",
       "    }\n",
       "</style>\n",
       "<table border=\"1\" class=\"dataframe\">\n",
       "  <thead>\n",
       "    <tr style=\"text-align: right;\">\n",
       "      <th></th>\n",
       "      <th>bookTitle</th>\n",
       "      <th>totalRatingCount</th>\n",
       "    </tr>\n",
       "  </thead>\n",
       "  <tbody>\n",
       "    <tr>\n",
       "      <th>0</th>\n",
       "      <td>Earth Prayers From around the World: 365 Pray...</td>\n",
       "      <td>8</td>\n",
       "    </tr>\n",
       "    <tr>\n",
       "      <th>1</th>\n",
       "      <td>Final Fantasy Anthology: Official Strategy Gu...</td>\n",
       "      <td>4</td>\n",
       "    </tr>\n",
       "    <tr>\n",
       "      <th>2</th>\n",
       "      <td>Flight of Fancy: American Heiresses (Zebra Ba...</td>\n",
       "      <td>2</td>\n",
       "    </tr>\n",
       "    <tr>\n",
       "      <th>3</th>\n",
       "      <td>Little Comic Shop of Horrors (Give Yourself G...</td>\n",
       "      <td>4</td>\n",
       "    </tr>\n",
       "    <tr>\n",
       "      <th>4</th>\n",
       "      <td>Mystery Mile</td>\n",
       "      <td>2</td>\n",
       "    </tr>\n",
       "  </tbody>\n",
       "</table>\n",
       "</div>"
      ],
      "text/plain": [
       "                                           bookTitle  totalRatingCount\n",
       "0   Earth Prayers From around the World: 365 Pray...                 8\n",
       "1   Final Fantasy Anthology: Official Strategy Gu...                 4\n",
       "2   Flight of Fancy: American Heiresses (Zebra Ba...                 2\n",
       "3   Little Comic Shop of Horrors (Give Yourself G...                 4\n",
       "4                                       Mystery Mile                 2"
      ]
     },
     "execution_count": 58,
     "metadata": {},
     "output_type": "execute_result"
    }
   ],
   "source": [
    "combine_book_rating = combine_book_rating.dropna(axis = 0, subset = ['bookTitle'])\n",
    "\n",
    "book_ratingCount = (combine_book_rating.\n",
    "     groupby(by = ['bookTitle'])['bookRating'].\n",
    "     count().\n",
    "     reset_index().\n",
    "     rename(columns = {'bookRating': 'totalRatingCount'})\n",
    "     [['bookTitle', 'totalRatingCount']]\n",
    "    )\n",
    "book_ratingCount.head()"
   ]
  },
  {
   "cell_type": "code",
   "execution_count": 59,
   "metadata": {},
   "outputs": [
    {
     "data": {
      "text/html": [
       "<div>\n",
       "<style scoped>\n",
       "    .dataframe tbody tr th:only-of-type {\n",
       "        vertical-align: middle;\n",
       "    }\n",
       "\n",
       "    .dataframe tbody tr th {\n",
       "        vertical-align: top;\n",
       "    }\n",
       "\n",
       "    .dataframe thead th {\n",
       "        text-align: right;\n",
       "    }\n",
       "</style>\n",
       "<table border=\"1\" class=\"dataframe\">\n",
       "  <thead>\n",
       "    <tr style=\"text-align: right;\">\n",
       "      <th></th>\n",
       "      <th>Unnamed: 0_x</th>\n",
       "      <th>userID</th>\n",
       "      <th>ISBN</th>\n",
       "      <th>bookRating</th>\n",
       "      <th>Unnamed: 0_y</th>\n",
       "      <th>bookTitle</th>\n",
       "      <th>totalRatingCount</th>\n",
       "    </tr>\n",
       "  </thead>\n",
       "  <tbody>\n",
       "    <tr>\n",
       "      <th>0</th>\n",
       "      <td>31</td>\n",
       "      <td>276762</td>\n",
       "      <td>034544003X</td>\n",
       "      <td>0</td>\n",
       "      <td>55440</td>\n",
       "      <td>Southampton Row (Charlotte &amp;amp; Thomas Pitt N...</td>\n",
       "      <td>13</td>\n",
       "    </tr>\n",
       "    <tr>\n",
       "      <th>1</th>\n",
       "      <td>126883</td>\n",
       "      <td>29259</td>\n",
       "      <td>034544003X</td>\n",
       "      <td>0</td>\n",
       "      <td>55440</td>\n",
       "      <td>Southampton Row (Charlotte &amp;amp; Thomas Pitt N...</td>\n",
       "      <td>13</td>\n",
       "    </tr>\n",
       "    <tr>\n",
       "      <th>2</th>\n",
       "      <td>152996</td>\n",
       "      <td>35050</td>\n",
       "      <td>034544003X</td>\n",
       "      <td>0</td>\n",
       "      <td>55440</td>\n",
       "      <td>Southampton Row (Charlotte &amp;amp; Thomas Pitt N...</td>\n",
       "      <td>13</td>\n",
       "    </tr>\n",
       "    <tr>\n",
       "      <th>3</th>\n",
       "      <td>407112</td>\n",
       "      <td>98391</td>\n",
       "      <td>034544003X</td>\n",
       "      <td>9</td>\n",
       "      <td>55440</td>\n",
       "      <td>Southampton Row (Charlotte &amp;amp; Thomas Pitt N...</td>\n",
       "      <td>13</td>\n",
       "    </tr>\n",
       "    <tr>\n",
       "      <th>4</th>\n",
       "      <td>558688</td>\n",
       "      <td>134797</td>\n",
       "      <td>034544003X</td>\n",
       "      <td>0</td>\n",
       "      <td>55440</td>\n",
       "      <td>Southampton Row (Charlotte &amp;amp; Thomas Pitt N...</td>\n",
       "      <td>13</td>\n",
       "    </tr>\n",
       "  </tbody>\n",
       "</table>\n",
       "</div>"
      ],
      "text/plain": [
       "   Unnamed: 0_x  userID        ISBN  bookRating  Unnamed: 0_y  \\\n",
       "0            31  276762  034544003X           0         55440   \n",
       "1        126883   29259  034544003X           0         55440   \n",
       "2        152996   35050  034544003X           0         55440   \n",
       "3        407112   98391  034544003X           9         55440   \n",
       "4        558688  134797  034544003X           0         55440   \n",
       "\n",
       "                                           bookTitle  totalRatingCount  \n",
       "0  Southampton Row (Charlotte &amp; Thomas Pitt N...                13  \n",
       "1  Southampton Row (Charlotte &amp; Thomas Pitt N...                13  \n",
       "2  Southampton Row (Charlotte &amp; Thomas Pitt N...                13  \n",
       "3  Southampton Row (Charlotte &amp; Thomas Pitt N...                13  \n",
       "4  Southampton Row (Charlotte &amp; Thomas Pitt N...                13  "
      ]
     },
     "execution_count": 59,
     "metadata": {},
     "output_type": "execute_result"
    }
   ],
   "source": [
    "rating_with_totalRatingCount = combine_book_rating.merge(book_ratingCount, left_on = 'bookTitle', right_on = 'bookTitle', how = 'left')\n",
    "rating_with_totalRatingCount.head()"
   ]
  },
  {
   "cell_type": "code",
   "execution_count": 60,
   "metadata": {},
   "outputs": [
    {
     "data": {
      "text/plain": [
       "count    60655.000000\n",
       "mean         2.655923\n",
       "std          8.106657\n",
       "min          1.000000\n",
       "25%          1.000000\n",
       "50%          1.000000\n",
       "75%          2.000000\n",
       "max        563.000000\n",
       "Name: totalRatingCount, dtype: float64"
      ]
     },
     "execution_count": 60,
     "metadata": {},
     "output_type": "execute_result"
    }
   ],
   "source": [
    "book_ratingCount['totalRatingCount'].describe()"
   ]
  },
  {
   "cell_type": "code",
   "execution_count": 61,
   "metadata": {},
   "outputs": [
    {
     "data": {
      "text/html": [
       "<div>\n",
       "<style scoped>\n",
       "    .dataframe tbody tr th:only-of-type {\n",
       "        vertical-align: middle;\n",
       "    }\n",
       "\n",
       "    .dataframe tbody tr th {\n",
       "        vertical-align: top;\n",
       "    }\n",
       "\n",
       "    .dataframe thead th {\n",
       "        text-align: right;\n",
       "    }\n",
       "</style>\n",
       "<table border=\"1\" class=\"dataframe\">\n",
       "  <thead>\n",
       "    <tr style=\"text-align: right;\">\n",
       "      <th></th>\n",
       "      <th>Unnamed: 0_x</th>\n",
       "      <th>userID</th>\n",
       "      <th>ISBN</th>\n",
       "      <th>bookRating</th>\n",
       "      <th>Unnamed: 0_y</th>\n",
       "      <th>bookTitle</th>\n",
       "      <th>totalRatingCount</th>\n",
       "    </tr>\n",
       "  </thead>\n",
       "  <tbody>\n",
       "    <tr>\n",
       "      <th>64</th>\n",
       "      <td>97</td>\n",
       "      <td>276798</td>\n",
       "      <td>3548603203</td>\n",
       "      <td>6</td>\n",
       "      <td>3217</td>\n",
       "      <td>Artemis Fowl.</td>\n",
       "      <td>25</td>\n",
       "    </tr>\n",
       "    <tr>\n",
       "      <th>65</th>\n",
       "      <td>57425</td>\n",
       "      <td>11676</td>\n",
       "      <td>3548603203</td>\n",
       "      <td>9</td>\n",
       "      <td>3217</td>\n",
       "      <td>Artemis Fowl.</td>\n",
       "      <td>25</td>\n",
       "    </tr>\n",
       "    <tr>\n",
       "      <th>66</th>\n",
       "      <td>335041</td>\n",
       "      <td>79590</td>\n",
       "      <td>3548603203</td>\n",
       "      <td>6</td>\n",
       "      <td>3217</td>\n",
       "      <td>Artemis Fowl.</td>\n",
       "      <td>25</td>\n",
       "    </tr>\n",
       "    <tr>\n",
       "      <th>67</th>\n",
       "      <td>376877</td>\n",
       "      <td>90830</td>\n",
       "      <td>3548603203</td>\n",
       "      <td>6</td>\n",
       "      <td>3217</td>\n",
       "      <td>Artemis Fowl.</td>\n",
       "      <td>25</td>\n",
       "    </tr>\n",
       "    <tr>\n",
       "      <th>68</th>\n",
       "      <td>509329</td>\n",
       "      <td>123947</td>\n",
       "      <td>3548603203</td>\n",
       "      <td>9</td>\n",
       "      <td>3217</td>\n",
       "      <td>Artemis Fowl.</td>\n",
       "      <td>25</td>\n",
       "    </tr>\n",
       "  </tbody>\n",
       "</table>\n",
       "</div>"
      ],
      "text/plain": [
       "    Unnamed: 0_x  userID        ISBN  bookRating  Unnamed: 0_y      bookTitle  \\\n",
       "64            97  276798  3548603203           6          3217  Artemis Fowl.   \n",
       "65         57425   11676  3548603203           9          3217  Artemis Fowl.   \n",
       "66        335041   79590  3548603203           6          3217  Artemis Fowl.   \n",
       "67        376877   90830  3548603203           6          3217  Artemis Fowl.   \n",
       "68        509329  123947  3548603203           9          3217  Artemis Fowl.   \n",
       "\n",
       "    totalRatingCount  \n",
       "64                25  \n",
       "65                25  \n",
       "66                25  \n",
       "67                25  \n",
       "68                25  "
      ]
     },
     "execution_count": 61,
     "metadata": {},
     "output_type": "execute_result"
    }
   ],
   "source": [
    "popularity_threshold = 20\n",
    "rating_popular_book = rating_with_totalRatingCount.query('totalRatingCount >= @popularity_threshold')\n",
    "rating_popular_book.head()"
   ]
  },
  {
   "cell_type": "code",
   "execution_count": 62,
   "metadata": {},
   "outputs": [
    {
     "data": {
      "text/plain": [
       "(37893, 7)"
      ]
     },
     "execution_count": 62,
     "metadata": {},
     "output_type": "execute_result"
    }
   ],
   "source": [
    "rating_popular_book.shape"
   ]
  },
  {
   "cell_type": "code",
   "execution_count": 63,
   "metadata": {},
   "outputs": [
    {
     "data": {
      "text/html": [
       "<div>\n",
       "<style scoped>\n",
       "    .dataframe tbody tr th:only-of-type {\n",
       "        vertical-align: middle;\n",
       "    }\n",
       "\n",
       "    .dataframe tbody tr th {\n",
       "        vertical-align: top;\n",
       "    }\n",
       "\n",
       "    .dataframe thead th {\n",
       "        text-align: right;\n",
       "    }\n",
       "</style>\n",
       "<table border=\"1\" class=\"dataframe\">\n",
       "  <thead>\n",
       "    <tr style=\"text-align: right;\">\n",
       "      <th></th>\n",
       "      <th>Unnamed: 0_x</th>\n",
       "      <th>userID</th>\n",
       "      <th>ISBN</th>\n",
       "      <th>bookRating</th>\n",
       "      <th>Unnamed: 0_y</th>\n",
       "      <th>bookTitle</th>\n",
       "      <th>totalRatingCount</th>\n",
       "      <th>Unnamed: 0</th>\n",
       "      <th>Location</th>\n",
       "    </tr>\n",
       "  </thead>\n",
       "  <tbody>\n",
       "    <tr>\n",
       "      <th>0</th>\n",
       "      <td>97</td>\n",
       "      <td>276798</td>\n",
       "      <td>3548603203</td>\n",
       "      <td>6</td>\n",
       "      <td>3217</td>\n",
       "      <td>Artemis Fowl.</td>\n",
       "      <td>25</td>\n",
       "      <td>276797</td>\n",
       "      <td>mannheim, baden-wuerttemberg, germany</td>\n",
       "    </tr>\n",
       "    <tr>\n",
       "      <th>1</th>\n",
       "      <td>57425</td>\n",
       "      <td>11676</td>\n",
       "      <td>3548603203</td>\n",
       "      <td>9</td>\n",
       "      <td>3217</td>\n",
       "      <td>Artemis Fowl.</td>\n",
       "      <td>25</td>\n",
       "      <td>11675</td>\n",
       "      <td>n/a, n/a, n/a</td>\n",
       "    </tr>\n",
       "    <tr>\n",
       "      <th>2</th>\n",
       "      <td>335041</td>\n",
       "      <td>79590</td>\n",
       "      <td>3548603203</td>\n",
       "      <td>6</td>\n",
       "      <td>3217</td>\n",
       "      <td>Artemis Fowl.</td>\n",
       "      <td>25</td>\n",
       "      <td>79589</td>\n",
       "      <td>berlin, berlin, germany</td>\n",
       "    </tr>\n",
       "    <tr>\n",
       "      <th>3</th>\n",
       "      <td>376877</td>\n",
       "      <td>90830</td>\n",
       "      <td>3548603203</td>\n",
       "      <td>6</td>\n",
       "      <td>3217</td>\n",
       "      <td>Artemis Fowl.</td>\n",
       "      <td>25</td>\n",
       "      <td>90829</td>\n",
       "      <td>rottenburg, baden-wuerttemberg, germany</td>\n",
       "    </tr>\n",
       "    <tr>\n",
       "      <th>4</th>\n",
       "      <td>509329</td>\n",
       "      <td>123947</td>\n",
       "      <td>3548603203</td>\n",
       "      <td>9</td>\n",
       "      <td>3217</td>\n",
       "      <td>Artemis Fowl.</td>\n",
       "      <td>25</td>\n",
       "      <td>123946</td>\n",
       "      <td>niedernhausen, hessen, germany</td>\n",
       "    </tr>\n",
       "  </tbody>\n",
       "</table>\n",
       "</div>"
      ],
      "text/plain": [
       "   Unnamed: 0_x  userID        ISBN  bookRating  Unnamed: 0_y      bookTitle  \\\n",
       "0            97  276798  3548603203           6          3217  Artemis Fowl.   \n",
       "1         57425   11676  3548603203           9          3217  Artemis Fowl.   \n",
       "2        335041   79590  3548603203           6          3217  Artemis Fowl.   \n",
       "3        376877   90830  3548603203           6          3217  Artemis Fowl.   \n",
       "4        509329  123947  3548603203           9          3217  Artemis Fowl.   \n",
       "\n",
       "   totalRatingCount  Unnamed: 0                                 Location  \n",
       "0                25      276797    mannheim, baden-wuerttemberg, germany  \n",
       "1                25       11675                            n/a, n/a, n/a  \n",
       "2                25       79589                  berlin, berlin, germany  \n",
       "3                25       90829  rottenburg, baden-wuerttemberg, germany  \n",
       "4                25      123946           niedernhausen, hessen, germany  "
      ]
     },
     "execution_count": 63,
     "metadata": {},
     "output_type": "execute_result"
    }
   ],
   "source": [
    "users_combined_rating = rating_popular_book.merge(users, left_on = 'userID', right_on = 'userID', how = 'left')\n",
    "users_combined_rating = users_combined_rating.drop('Age',axis=1)\n",
    "users_combined_rating.head()"
   ]
  },
  {
   "cell_type": "code",
   "execution_count": 64,
   "metadata": {},
   "outputs": [
    {
     "data": {
      "text/plain": [
       "(37893, 9)"
      ]
     },
     "execution_count": 64,
     "metadata": {},
     "output_type": "execute_result"
    }
   ],
   "source": [
    "users_combined_rating.shape"
   ]
  },
  {
   "cell_type": "code",
   "execution_count": 65,
   "metadata": {},
   "outputs": [],
   "source": [
    "# from scipy.sparse import csr_matrix\n",
    "# users_combined_rating = users_combined_rating.drop_duplicates(['userID', 'bookTitle'])\n",
    "# users_combined_rating_pivot = users_combined_rating.pivot(index = 'bookTitle', columns = 'userID', values = 'bookRating').fillna(0)\n",
    "# users_combined_rating_matrix = csr_matrix(users_combined_rating_pivot.values)\n",
    "\n",
    "# from sklearn.neighbors import NearestNeighbors\n",
    "\n",
    "\n",
    "# model_knn = NearestNeighbors(metric = 'cosine', algorithm = 'brute')\n",
    "# model_knn.fit(users_combined_rating_matrix)"
   ]
  },
  {
   "cell_type": "code",
   "execution_count": 66,
   "metadata": {},
   "outputs": [],
   "source": [
    "# users_combined_rating_pivot.head()"
   ]
  },
  {
   "cell_type": "code",
   "execution_count": 67,
   "metadata": {},
   "outputs": [],
   "source": [
    "# print(users_combined_rating_matrix) "
   ]
  },
  {
   "cell_type": "code",
   "execution_count": 68,
   "metadata": {},
   "outputs": [],
   "source": [
    "# query_index = np.random.choice(users_combined_rating_pivot.shape[0])\n",
    "# print(query_index)\n",
    "# distances, indices = model_knn.kneighbors(users_combined_rating_pivot.iloc[query_index,:].values.reshape(1, -1), n_neighbors = 6)"
   ]
  },
  {
   "cell_type": "code",
   "execution_count": 69,
   "metadata": {},
   "outputs": [],
   "source": [
    "# query = '311 Pelican Court' \n",
    "# users_combined_rating_pivot.index[3]\n",
    "# users_combined_rating_pivot.iloc[users_combined_rating_pivot.index[query],:].values.reshape(1,-1)"
   ]
  },
  {
   "cell_type": "code",
   "execution_count": 70,
   "metadata": {},
   "outputs": [],
   "source": [
    "# users_combined_rating_pivot.index[query_index]"
   ]
  },
  {
   "cell_type": "code",
   "execution_count": 71,
   "metadata": {},
   "outputs": [],
   "source": [
    "# list_books = [];\n",
    "# for i in range(0, len(distances.flatten())):\n",
    "#     if i == 0:\n",
    "#         print('Recommendations for {0}:\\n'.format(users_combined_rating_pivot.index[query_index]))\n",
    "#     else:\n",
    "#         print('{0}: {1}, with distance of {2}:'.format(i, users_combined_rating_pivot.index[indices.flatten()[i]], distances.flatten()[i]))\n",
    "# #         print(book_isbn.iloc[0]['ISBN'])"
   ]
  },
  {
   "cell_type": "code",
   "execution_count": 72,
   "metadata": {
    "scrolled": true
   },
   "outputs": [
    {
     "data": {
      "text/html": [
       "<div>\n",
       "<style scoped>\n",
       "    .dataframe tbody tr th:only-of-type {\n",
       "        vertical-align: middle;\n",
       "    }\n",
       "\n",
       "    .dataframe tbody tr th {\n",
       "        vertical-align: top;\n",
       "    }\n",
       "\n",
       "    .dataframe thead th {\n",
       "        text-align: right;\n",
       "    }\n",
       "</style>\n",
       "<table border=\"1\" class=\"dataframe\">\n",
       "  <thead>\n",
       "    <tr style=\"text-align: right;\">\n",
       "      <th></th>\n",
       "      <th>ISBN</th>\n",
       "      <th>bookTitle</th>\n",
       "    </tr>\n",
       "  </thead>\n",
       "  <tbody>\n",
       "    <tr>\n",
       "      <th>0</th>\n",
       "      <td>195153448</td>\n",
       "      <td>Classical Mythology</td>\n",
       "    </tr>\n",
       "    <tr>\n",
       "      <th>1</th>\n",
       "      <td>2005018</td>\n",
       "      <td>Clara Callan</td>\n",
       "    </tr>\n",
       "    <tr>\n",
       "      <th>2</th>\n",
       "      <td>60973129</td>\n",
       "      <td>Decision in Normandy</td>\n",
       "    </tr>\n",
       "    <tr>\n",
       "      <th>3</th>\n",
       "      <td>374157065</td>\n",
       "      <td>Flu: The Story of the Great Influenza Pandemic...</td>\n",
       "    </tr>\n",
       "    <tr>\n",
       "      <th>4</th>\n",
       "      <td>393045218</td>\n",
       "      <td>The Mummies of Urumchi</td>\n",
       "    </tr>\n",
       "  </tbody>\n",
       "</table>\n",
       "</div>"
      ],
      "text/plain": [
       "        ISBN                                          bookTitle\n",
       "0  195153448                                Classical Mythology\n",
       "1    2005018                                       Clara Callan\n",
       "2   60973129                               Decision in Normandy\n",
       "3  374157065  Flu: The Story of the Great Influenza Pandemic...\n",
       "4  393045218                             The Mummies of Urumchi"
      ]
     },
     "execution_count": 72,
     "metadata": {},
     "output_type": "execute_result"
    }
   ],
   "source": [
    "book_isbn = books[['ISBN','bookTitle']]\n",
    "book_isbn.head()"
   ]
  },
  {
   "cell_type": "code",
   "execution_count": 73,
   "metadata": {},
   "outputs": [
    {
     "data": {
      "text/plain": [
       "(271360, 2)"
      ]
     },
     "execution_count": 73,
     "metadata": {},
     "output_type": "execute_result"
    }
   ],
   "source": [
    "# book_isbn.loc[book_isbn.index==2,'ISBN'].values[0]\n",
    "# book_isbn.loc[book_isbn['ISBN']==book_num,'bookTitle'].values[0]\n",
    "book_isbn.shape"
   ]
  },
  {
   "cell_type": "code",
   "execution_count": 74,
   "metadata": {},
   "outputs": [
    {
     "data": {
      "text/plain": [
       "NearestNeighbors(algorithm='brute', leaf_size=30, metric='cosine',\n",
       "                 metric_params=None, n_jobs=None, n_neighbors=5, p=2,\n",
       "                 radius=1.0)"
      ]
     },
     "execution_count": 74,
     "metadata": {},
     "output_type": "execute_result"
    }
   ],
   "source": [
    "from scipy.sparse import csr_matrix\n",
    "users_combined_rating = users_combined_rating.drop_duplicates(['userID', 'bookTitle'])\n",
    "users_combined_rating_pivot = users_combined_rating.pivot(index = 'ISBN', columns = 'userID', values = 'bookRating').fillna(0)\n",
    "users_combined_rating_matrix = csr_matrix(users_combined_rating_pivot.values)\n",
    "\n",
    "from sklearn.neighbors import NearestNeighbors\n",
    "\n",
    "\n",
    "model_knn = NearestNeighbors(metric = 'cosine', algorithm = 'brute')\n",
    "model_knn.fit(users_combined_rating_matrix)"
   ]
  },
  {
   "cell_type": "code",
   "execution_count": 75,
   "metadata": {},
   "outputs": [
    {
     "data": {
      "text/plain": [
       "(1134, 7964)"
      ]
     },
     "execution_count": 75,
     "metadata": {},
     "output_type": "execute_result"
    }
   ],
   "source": [
    "users_combined_rating_pivot.shape"
   ]
  },
  {
   "cell_type": "code",
   "execution_count": 76,
   "metadata": {},
   "outputs": [
    {
     "data": {
      "text/plain": [
       "(37790, 9)"
      ]
     },
     "execution_count": 76,
     "metadata": {},
     "output_type": "execute_result"
    }
   ],
   "source": [
    "users_combined_rating.shape"
   ]
  },
  {
   "cell_type": "code",
   "execution_count": 77,
   "metadata": {
    "scrolled": false
   },
   "outputs": [
    {
     "data": {
      "text/html": [
       "<div>\n",
       "<style scoped>\n",
       "    .dataframe tbody tr th:only-of-type {\n",
       "        vertical-align: middle;\n",
       "    }\n",
       "\n",
       "    .dataframe tbody tr th {\n",
       "        vertical-align: top;\n",
       "    }\n",
       "\n",
       "    .dataframe thead th {\n",
       "        text-align: right;\n",
       "    }\n",
       "</style>\n",
       "<table border=\"1\" class=\"dataframe\">\n",
       "  <thead>\n",
       "    <tr style=\"text-align: right;\">\n",
       "      <th>userID</th>\n",
       "      <th>8</th>\n",
       "      <th>99</th>\n",
       "      <th>183</th>\n",
       "      <th>242</th>\n",
       "      <th>243</th>\n",
       "      <th>254</th>\n",
       "      <th>383</th>\n",
       "      <th>388</th>\n",
       "      <th>408</th>\n",
       "      <th>424</th>\n",
       "      <th>...</th>\n",
       "      <th>278390</th>\n",
       "      <th>278418</th>\n",
       "      <th>278506</th>\n",
       "      <th>278535</th>\n",
       "      <th>278554</th>\n",
       "      <th>278563</th>\n",
       "      <th>278582</th>\n",
       "      <th>278633</th>\n",
       "      <th>278843</th>\n",
       "      <th>278851</th>\n",
       "    </tr>\n",
       "    <tr>\n",
       "      <th>ISBN</th>\n",
       "      <th></th>\n",
       "      <th></th>\n",
       "      <th></th>\n",
       "      <th></th>\n",
       "      <th></th>\n",
       "      <th></th>\n",
       "      <th></th>\n",
       "      <th></th>\n",
       "      <th></th>\n",
       "      <th></th>\n",
       "      <th></th>\n",
       "      <th></th>\n",
       "      <th></th>\n",
       "      <th></th>\n",
       "      <th></th>\n",
       "      <th></th>\n",
       "      <th></th>\n",
       "      <th></th>\n",
       "      <th></th>\n",
       "      <th></th>\n",
       "      <th></th>\n",
       "    </tr>\n",
       "  </thead>\n",
       "  <tbody>\n",
       "    <tr>\n",
       "      <th>000649840X</th>\n",
       "      <td>0.0</td>\n",
       "      <td>0.0</td>\n",
       "      <td>0.0</td>\n",
       "      <td>0.0</td>\n",
       "      <td>0.0</td>\n",
       "      <td>0.0</td>\n",
       "      <td>0.0</td>\n",
       "      <td>0.0</td>\n",
       "      <td>0.0</td>\n",
       "      <td>0.0</td>\n",
       "      <td>...</td>\n",
       "      <td>0.0</td>\n",
       "      <td>0.0</td>\n",
       "      <td>0.0</td>\n",
       "      <td>0.0</td>\n",
       "      <td>0.0</td>\n",
       "      <td>0.0</td>\n",
       "      <td>0.0</td>\n",
       "      <td>0.0</td>\n",
       "      <td>0.0</td>\n",
       "      <td>0.0</td>\n",
       "    </tr>\n",
       "    <tr>\n",
       "      <th>000654861X</th>\n",
       "      <td>0.0</td>\n",
       "      <td>0.0</td>\n",
       "      <td>0.0</td>\n",
       "      <td>0.0</td>\n",
       "      <td>0.0</td>\n",
       "      <td>0.0</td>\n",
       "      <td>0.0</td>\n",
       "      <td>0.0</td>\n",
       "      <td>0.0</td>\n",
       "      <td>0.0</td>\n",
       "      <td>...</td>\n",
       "      <td>0.0</td>\n",
       "      <td>0.0</td>\n",
       "      <td>0.0</td>\n",
       "      <td>0.0</td>\n",
       "      <td>0.0</td>\n",
       "      <td>0.0</td>\n",
       "      <td>0.0</td>\n",
       "      <td>0.0</td>\n",
       "      <td>0.0</td>\n",
       "      <td>0.0</td>\n",
       "    </tr>\n",
       "    <tr>\n",
       "      <th>002026478X</th>\n",
       "      <td>0.0</td>\n",
       "      <td>0.0</td>\n",
       "      <td>0.0</td>\n",
       "      <td>0.0</td>\n",
       "      <td>0.0</td>\n",
       "      <td>0.0</td>\n",
       "      <td>0.0</td>\n",
       "      <td>0.0</td>\n",
       "      <td>0.0</td>\n",
       "      <td>0.0</td>\n",
       "      <td>...</td>\n",
       "      <td>0.0</td>\n",
       "      <td>0.0</td>\n",
       "      <td>0.0</td>\n",
       "      <td>0.0</td>\n",
       "      <td>0.0</td>\n",
       "      <td>0.0</td>\n",
       "      <td>0.0</td>\n",
       "      <td>0.0</td>\n",
       "      <td>0.0</td>\n",
       "      <td>0.0</td>\n",
       "    </tr>\n",
       "    <tr>\n",
       "      <th>002089130X</th>\n",
       "      <td>0.0</td>\n",
       "      <td>0.0</td>\n",
       "      <td>0.0</td>\n",
       "      <td>0.0</td>\n",
       "      <td>0.0</td>\n",
       "      <td>0.0</td>\n",
       "      <td>0.0</td>\n",
       "      <td>0.0</td>\n",
       "      <td>0.0</td>\n",
       "      <td>0.0</td>\n",
       "      <td>...</td>\n",
       "      <td>0.0</td>\n",
       "      <td>0.0</td>\n",
       "      <td>0.0</td>\n",
       "      <td>0.0</td>\n",
       "      <td>0.0</td>\n",
       "      <td>0.0</td>\n",
       "      <td>0.0</td>\n",
       "      <td>0.0</td>\n",
       "      <td>0.0</td>\n",
       "      <td>0.0</td>\n",
       "    </tr>\n",
       "    <tr>\n",
       "      <th>002089130x</th>\n",
       "      <td>0.0</td>\n",
       "      <td>0.0</td>\n",
       "      <td>0.0</td>\n",
       "      <td>0.0</td>\n",
       "      <td>0.0</td>\n",
       "      <td>0.0</td>\n",
       "      <td>0.0</td>\n",
       "      <td>0.0</td>\n",
       "      <td>0.0</td>\n",
       "      <td>0.0</td>\n",
       "      <td>...</td>\n",
       "      <td>0.0</td>\n",
       "      <td>0.0</td>\n",
       "      <td>0.0</td>\n",
       "      <td>0.0</td>\n",
       "      <td>0.0</td>\n",
       "      <td>0.0</td>\n",
       "      <td>0.0</td>\n",
       "      <td>0.0</td>\n",
       "      <td>0.0</td>\n",
       "      <td>0.0</td>\n",
       "    </tr>\n",
       "  </tbody>\n",
       "</table>\n",
       "<p>5 rows × 7964 columns</p>\n",
       "</div>"
      ],
      "text/plain": [
       "userID      8       99      183     242     243     254     383     388     \\\n",
       "ISBN                                                                         \n",
       "000649840X     0.0     0.0     0.0     0.0     0.0     0.0     0.0     0.0   \n",
       "000654861X     0.0     0.0     0.0     0.0     0.0     0.0     0.0     0.0   \n",
       "002026478X     0.0     0.0     0.0     0.0     0.0     0.0     0.0     0.0   \n",
       "002089130X     0.0     0.0     0.0     0.0     0.0     0.0     0.0     0.0   \n",
       "002089130x     0.0     0.0     0.0     0.0     0.0     0.0     0.0     0.0   \n",
       "\n",
       "userID      408     424     ...  278390  278418  278506  278535  278554  \\\n",
       "ISBN                        ...                                           \n",
       "000649840X     0.0     0.0  ...     0.0     0.0     0.0     0.0     0.0   \n",
       "000654861X     0.0     0.0  ...     0.0     0.0     0.0     0.0     0.0   \n",
       "002026478X     0.0     0.0  ...     0.0     0.0     0.0     0.0     0.0   \n",
       "002089130X     0.0     0.0  ...     0.0     0.0     0.0     0.0     0.0   \n",
       "002089130x     0.0     0.0  ...     0.0     0.0     0.0     0.0     0.0   \n",
       "\n",
       "userID      278563  278582  278633  278843  278851  \n",
       "ISBN                                                \n",
       "000649840X     0.0     0.0     0.0     0.0     0.0  \n",
       "000654861X     0.0     0.0     0.0     0.0     0.0  \n",
       "002026478X     0.0     0.0     0.0     0.0     0.0  \n",
       "002089130X     0.0     0.0     0.0     0.0     0.0  \n",
       "002089130x     0.0     0.0     0.0     0.0     0.0  \n",
       "\n",
       "[5 rows x 7964 columns]"
      ]
     },
     "execution_count": 77,
     "metadata": {},
     "output_type": "execute_result"
    }
   ],
   "source": [
    "users_combined_rating_pivot.head()"
   ]
  },
  {
   "cell_type": "code",
   "execution_count": 79,
   "metadata": {},
   "outputs": [],
   "source": [
    "users_combined_rating_pivot.to_csv('users_combined_rating_pivot.csv')"
   ]
  },
  {
   "cell_type": "code",
   "execution_count": 80,
   "metadata": {},
   "outputs": [],
   "source": [
    "def get_book_name(book_num):\n",
    "    return book_isbn.loc[book_isbn['ISBN']==book_num,'bookTitle'].values[0]"
   ]
  },
  {
   "cell_type": "code",
   "execution_count": 81,
   "metadata": {},
   "outputs": [],
   "source": [
    "# query_index = np.random.choice(users_combined_rating_pivot.shape[0])\n",
    "# print(query_index)\n",
    "# distances, indices = model_knn.kneighbors(users_combined_rating_pivot.iloc[query_index,:].values.reshape(1, -1), n_neighbors = 6)"
   ]
  },
  {
   "cell_type": "code",
   "execution_count": 82,
   "metadata": {},
   "outputs": [],
   "source": [
    "# list_books = [];\n",
    "# for i in range(0, len(distances.flatten())):\n",
    "#     if i == 0:\n",
    "#         print('Recommendations for {0}:\\n'.format(get_book_name(users_combined_rating_pivot.index[query_index])))\n",
    "#     else:\n",
    "#         book_num = users_combined_rating_pivot.index[indices.flatten()[i]]\n",
    "#         book_name = get_book_name(book_num)\n",
    "#         print('{0}: {1}-{2}, with distance of {3}:'.format(i, book_name, book_num, distances.flatten()[i]))\n",
    "#         list_books.append(book_num)\n",
    "# print(list_books)"
   ]
  },
  {
   "cell_type": "code",
   "execution_count": 83,
   "metadata": {
    "scrolled": true
   },
   "outputs": [],
   "source": [
    "query = '006008460X' \n",
    "# users_combined_rating_pivot.index[users_combined_rating_pivot.index==query]\n",
    "distances, indices = model_knn.kneighbors(users_combined_rating_pivot.loc[users_combined_rating_pivot.index[users_combined_rating_pivot.index==query],:].values.reshape(1, -1), n_neighbors = 6)"
   ]
  },
  {
   "cell_type": "code",
   "execution_count": 84,
   "metadata": {},
   "outputs": [
    {
     "name": "stdout",
     "output_type": "stream",
     "text": [
      "[[  11 1132  883   17  267  705]]\n"
     ]
    }
   ],
   "source": [
    "print(indices)"
   ]
  },
  {
   "cell_type": "code",
   "execution_count": 85,
   "metadata": {},
   "outputs": [
    {
     "name": "stdout",
     "output_type": "stream",
     "text": [
      "Recommendations for Cheaper by the Dozen (Perennial Classics):\n",
      "\n",
      "\n",
      "1: Three Fates-B0000T6KHI, with distance of 0.5869038076139862:\n",
      "\n",
      "2: Petals on the River-1568655878, with distance of 0.5869038076139862:\n",
      "\n",
      "3: A Secret Affair-006018650X, with distance of 0.7049312911528473:\n",
      "\n",
      "4: Fool's Puzzle-042514545X, with distance of 0.7614781535642023:\n",
      "\n",
      "5: Tomorrow's Promise: Can the Heart Let Go of Yesterday?-1551666014, with distance of 0.8215696213349198:\n",
      "['B0000T6KHI', '1568655878', '006018650X', '042514545X', '1551666014']\n"
     ]
    }
   ],
   "source": [
    "list_books = [];\n",
    "for i in range(0, len(distances.flatten())):\n",
    "    if i == 0:\n",
    "        print('Recommendations for {0}:\\n'.format(get_book_name(query)))\n",
    "    else:\n",
    "        book_num = users_combined_rating_pivot.index[indices.flatten()[i]]\n",
    "        print()\n",
    "        book_name = get_book_name(book_num)\n",
    "        print('{0}: {1}-{2}, with distance of {3}:'.format(i, book_name, book_num, distances.flatten()[i]))\n",
    "        list_books.append(book_num)\n",
    "print(list_books)"
   ]
  },
  {
   "cell_type": "code",
   "execution_count": 86,
   "metadata": {},
   "outputs": [],
   "source": [
    "import pickle\n",
    "pickle.dump(model_knn, open('knn_model.pkl','wb'))"
   ]
  },
  {
   "cell_type": "code",
   "execution_count": 87,
   "metadata": {},
   "outputs": [
    {
     "data": {
      "text/plain": [
       "{'algorithm': 'brute',\n",
       " 'leaf_size': 30,\n",
       " 'metric': 'cosine',\n",
       " 'metric_params': None,\n",
       " 'n_jobs': None,\n",
       " 'n_neighbors': 5,\n",
       " 'p': 2,\n",
       " 'radius': 1.0}"
      ]
     },
     "execution_count": 87,
     "metadata": {},
     "output_type": "execute_result"
    }
   ],
   "source": [
    "model_knn.get_params()"
   ]
  },
  {
   "cell_type": "code",
   "execution_count": 88,
   "metadata": {},
   "outputs": [
    {
     "data": {
      "text/plain": [
       "array([[0., 0., 0., ..., 0., 0., 0.]])"
      ]
     },
     "execution_count": 88,
     "metadata": {},
     "output_type": "execute_result"
    }
   ],
   "source": [
    "users_combined_rating_pivot.loc[users_combined_rating_pivot.index[users_combined_rating_pivot.index.isin([query])],:].values"
   ]
  },
  {
   "cell_type": "code",
   "execution_count": 89,
   "metadata": {},
   "outputs": [
    {
     "data": {
      "text/plain": [
       "Index(['000649840X', '000654861X', '002026478X', '002089130X', '002089130x',\n",
       "       '002542730X', '002542730x', '006000438X', '006000438x', '006000925X',\n",
       "       ...\n",
       "       '9505112076', '9506440298', '9681905849', 'B00006I4OX', 'B00006RGIO',\n",
       "       'B00009EF82', 'B0000C7BNG', 'B0000E63CJ', 'B0000T6KHI', 'B0001PIOX4'],\n",
       "      dtype='object', name='ISBN', length=1134)"
      ]
     },
     "execution_count": 89,
     "metadata": {},
     "output_type": "execute_result"
    }
   ],
   "source": [
    "users_combined_rating_pivot.index"
   ]
  }
 ],
 "metadata": {
  "kernelspec": {
   "display_name": "Python 3",
   "language": "python",
   "name": "python3"
  },
  "language_info": {
   "codemirror_mode": {
    "name": "ipython",
    "version": 3
   },
   "file_extension": ".py",
   "mimetype": "text/x-python",
   "name": "python",
   "nbconvert_exporter": "python",
   "pygments_lexer": "ipython3",
   "version": "3.7.6"
  }
 },
 "nbformat": 4,
 "nbformat_minor": 4
}
